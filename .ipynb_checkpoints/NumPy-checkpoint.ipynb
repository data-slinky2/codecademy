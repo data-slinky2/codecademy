{
 "cells": [
  {
   "cell_type": "code",
   "execution_count": 21,
   "metadata": {},
   "outputs": [
    {
     "data": {
      "text/html": [
       "<style>.prompt{width: 0px; min-width: 0px; visibility: collapse}</style>"
      ],
      "text/plain": [
       "<IPython.core.display.HTML object>"
      ]
     },
     "metadata": {},
     "output_type": "display_data"
    }
   ],
   "source": [
    "from IPython.core.display import display, HTML\n",
    "display(HTML('<style>.prompt{width: 0px; min-width: 0px; visibility: collapse}</style>'))"
   ]
  },
  {
   "cell_type": "markdown",
   "metadata": {},
   "source": [
    "# Introduction to NumPy Arrays for Data Scientists"
   ]
  },
  {
   "cell_type": "markdown",
   "metadata": {},
   "source": [
    "Learn what is a NumPy array, why do we use them in data science, and how to get started."
   ]
  },
  {
   "cell_type": "markdown",
   "metadata": {},
   "source": [
    "<img src=\"https://upload.wikimedia.org/wikipedia/commons/3/31/NumPy_logo_2020.svg\" width=\"200\">"
   ]
  },
  {
   "cell_type": "markdown",
   "metadata": {},
   "source": [
    "In this article, we will introduce you to the popular Python scientific library called [NumPy](https://numpy.org/) (short for Numerical Python). Along with [Pandas DataFrame](https://pandas.pydata.org/), a NumPy array is a very useful data structure in your data science workflow.\n",
    "\n",
    "By the end of this article, you will learn the following about NumPy arrays in the context of data science:\n",
    "\n",
    "1. What exactly is a NumPy array\n",
    "2. Why is it different from a list\n",
    "3. How to index, slice, and reshape arrays"
   ]
  },
  {
   "cell_type": "markdown",
   "metadata": {},
   "source": [
    "## What is a NumPy array?"
   ]
  },
  {
   "cell_type": "markdown",
   "metadata": {},
   "source": [
    "An array is a data structure of the NumPy library that contains raw data elements, how to locate an element and how to interpret an element. Simply put, they are 1-dimensional or multi-dimensional matrices."
   ]
  },
  {
   "cell_type": "markdown",
   "metadata": {},
   "source": [
    "At first glance, a NumPy array looks very similar to built-in Python list."
   ]
  },
  {
   "cell_type": "code",
   "execution_count": 19,
   "metadata": {},
   "outputs": [
    {
     "name": "stdout",
     "output_type": "stream",
     "text": [
      "[1, 2, 3, 4, 5, 6]\n"
     ]
    }
   ],
   "source": [
    "my_list = [1, 2, 3, 4, 5, 6] # A list\n",
    "print(my_list)"
   ]
  },
  {
   "cell_type": "code",
   "execution_count": 2,
   "metadata": {
    "scrolled": true
   },
   "outputs": [
    {
     "name": "stdout",
     "output_type": "stream",
     "text": [
      "[1 2 3 4 5 6]\n"
     ]
    }
   ],
   "source": [
    "import numpy as np\n",
    "my_array = np.array([1, 2, 3, 4, 5, 6]) # A NumPy array\n",
    "print(my_array)"
   ]
  },
  {
   "cell_type": "markdown",
   "metadata": {},
   "source": [
    "You can see that a list have elements separate by a comma but a array does not. However, the biggest difference is that a NumPy array can only contain <i>homogeneous datatypes whereas a list can contain </i>heterogeneous datatypes."
   ]
  },
  {
   "cell_type": "code",
   "execution_count": 3,
   "metadata": {},
   "outputs": [
    {
     "name": "stdout",
     "output_type": "stream",
     "text": [
      "[1 2 3 4 5 6]\n",
      "['dog' 'cat' 'fish']\n",
      "[[ 1  2  3  4  5  6]\n",
      " [ 6  7  8  9 10 11]]\n"
     ]
    }
   ],
   "source": [
    "print(np.array([1, 2, 3, 4, 5, 6]))  # A 1D array of integers\n",
    "print(np.array([\"dog\", \"cat\", \"fish\"]))  # A 1D array of strings\n",
    "print(np.array([[1, 2, 3, 4, 5, 6], [6, 7, 8, 9, 10, 11]]))  # A 2D array"
   ]
  },
  {
   "cell_type": "code",
   "execution_count": 4,
   "metadata": {},
   "outputs": [
    {
     "name": "stdout",
     "output_type": "stream",
     "text": [
      "[1, 'dog', False, 2, 'cat', True]\n"
     ]
    }
   ],
   "source": [
    "print([1, 'dog', False, 2, 'cat', True]) # A list of integers, strings, and boolean"
   ]
  },
  {
   "cell_type": "markdown",
   "metadata": {},
   "source": [
    "## Why use NumPy array?"
   ]
  },
  {
   "cell_type": "markdown",
   "metadata": {},
   "source": [
    "There are several advantages to using a NumPy array over a list:\n",
    "* speed - it's much faster\n",
    "* efficiency - it takes less memory\n",
    "* functionality - it enables you to do more"
   ]
  },
  {
   "cell_type": "markdown",
   "metadata": {},
   "source": [
    "These advantages are very important for a data scientist. <b>Speed</b> and <b>efficiency</b> is important because you will often work with extremely large datasets with millions of rows or thousands of columns. Using NumPy arrays will enable you to use less resources in ingesting and transforming your data, perform exploratory data analysis, and  train your models faster.\n",
    "\n",
    "<b>Functionality</b> is also important because NumPy arrays were designed to allow you to do scientific calculations. You will find that many machine learning libraries such as [scikit-learn](https://scikit-learn.org/) uses NumPy arrays because of it's functionality. For example, if you want to scale your data by a multiply every element by 3, you will find that it is easier to perform such calculation on an array than a list."
   ]
  },
  {
   "cell_type": "code",
   "execution_count": 5,
   "metadata": {},
   "outputs": [
    {
     "name": "stdout",
     "output_type": "stream",
     "text": [
      "[1, 2, 3, 4, 5, 6, 1, 2, 3, 4, 5, 6, 1, 2, 3, 4, 5, 6]\n"
     ]
    }
   ],
   "source": [
    "print(my_list * 3)"
   ]
  },
  {
   "cell_type": "code",
   "execution_count": 6,
   "metadata": {},
   "outputs": [
    {
     "name": "stdout",
     "output_type": "stream",
     "text": [
      "[ 3  6  9 12 15 18]\n"
     ]
    }
   ],
   "source": [
    "print(my_array * 3)"
   ]
  },
  {
   "cell_type": "markdown",
   "metadata": {},
   "source": [
    "## How do we work with NumPy array ?"
   ]
  },
  {
   "cell_type": "markdown",
   "metadata": {},
   "source": [
    "### Accessing/Indexing"
   ]
  },
  {
   "cell_type": "markdown",
   "metadata": {},
   "source": [
    "<img src=\"array_index.png\" width=\"350\">"
   ]
  },
  {
   "cell_type": "markdown",
   "metadata": {},
   "source": [
    "We access the elements of an array using square brackets. When you’re accessing array elements, remember that indexing in NumPy starts at 0 so an index of 0 is the first element, index of 1 is second element, and so on."
   ]
  },
  {
   "cell_type": "code",
   "execution_count": 7,
   "metadata": {},
   "outputs": [
    {
     "name": "stdout",
     "output_type": "stream",
     "text": [
      "1\n"
     ]
    }
   ],
   "source": [
    "print(my_array[0])  # First element of 1D array"
   ]
  },
  {
   "cell_type": "markdown",
   "metadata": {},
   "source": [
    "We access an N-dimensional array using square brackets also but each dimension (called an <i>axis</i> in NumPy) is separated by a comma. Let us look at how to index a 2D  array."
   ]
  },
  {
   "cell_type": "code",
   "execution_count": 8,
   "metadata": {},
   "outputs": [
    {
     "name": "stdout",
     "output_type": "stream",
     "text": [
      "[[ 1  2  3  4  5  6]\n",
      " [ 7  8  9 10 11 12]]\n",
      "1\n",
      "10\n"
     ]
    }
   ],
   "source": [
    "# Define a 2D array. The 1st axis has 2 elements and 2nd has 5 elements\n",
    "my_2darray = np.array([[1, 2, 3, 4, 5, 6], [7, 8, 9, 10, 11, 12]])\n",
    "print(my_2darray)\n",
    "print(my_2darray[0, 0])  # First element of axis 1, first element of axis 2\n",
    "print(my_2darray[1, 3])  # Second element of axis 1, fourth element of axis 2"
   ]
  },
  {
   "cell_type": "markdown",
   "metadata": {},
   "source": [
    "### Slicing"
   ]
  },
  {
   "cell_type": "markdown",
   "metadata": {},
   "source": [
    "In training a machine learning model, you want to split your data into a training and testing set by specifying the number of rows for split. Slicing an array is one way to do so.\n",
    "\n",
    "We use square brackets to slice an array. The notation to slice is defined by <i>my_array[start_index:end_index:step]</i>. Note, you do not have to specify all of the index inputs.\n",
    "\n",
    "* No start index means start at 0\n",
    "* No end index means end at the length of the array\n",
    "* No step will default to step = 1"
   ]
  },
  {
   "cell_type": "code",
   "execution_count": 9,
   "metadata": {
    "scrolled": true
   },
   "outputs": [
    {
     "name": "stdout",
     "output_type": "stream",
     "text": [
      "[1 2 3]\n",
      "[3 4 5 6]\n",
      "[1 3 5]\n"
     ]
    }
   ],
   "source": [
    "print(my_array[0:3])  # Slice for the first 3 elements\n",
    "print(my_array[2:])  # Slice starting at element 2 until end of array\n",
    "print(my_array[0:5:2])  # Slice for every 2nd element"
   ]
  },
  {
   "cell_type": "markdown",
   "metadata": {},
   "source": [
    "You can also use negative indexes which starts the slicing at the end of the array."
   ]
  },
  {
   "cell_type": "code",
   "execution_count": 10,
   "metadata": {},
   "outputs": [
    {
     "name": "stdout",
     "output_type": "stream",
     "text": [
      "[5 6]\n",
      "[3 4 5]\n"
     ]
    }
   ],
   "source": [
    "print(my_array[-2:])  # Slice the last 2 elements\n",
    "print(\n",
    "    my_array[-4:-1]\n",
    ")  # Slice starting from the second element and ending before the last element"
   ]
  },
  {
   "cell_type": "markdown",
   "metadata": {},
   "source": [
    "For N-dimensional arrays, we separate our axis slice by a comma. Lets take a look at how slicing works for 2D arrays."
   ]
  },
  {
   "cell_type": "code",
   "execution_count": 11,
   "metadata": {},
   "outputs": [
    {
     "name": "stdout",
     "output_type": "stream",
     "text": [
      "[[1 2]\n",
      " [7 8]]\n",
      "[ 8  9 10]\n"
     ]
    }
   ],
   "source": [
    "print(\n",
    "    my_2darray[0:2, 0:2]\n",
    ")  # Slice first two element of axis 1, first two element of axis 2\n",
    "print(my_2darray[1, 1:4])  # Slice first three element of axis 2"
   ]
  },
  {
   "cell_type": "markdown",
   "metadata": {},
   "source": [
    "### Shape/Reshaping"
   ]
  },
  {
   "cell_type": "markdown",
   "metadata": {},
   "source": [
    "The shape of your data is very important. For example, certain models such as Convolutional Neural Networks (CNNs) requires you to specify the shape of your data as an input.\n",
    "\n",
    "We can view the shape of a NumPy array using the function [shape](https://numpy.org/doc/stable/reference/generated/numpy.shape.html)."
   ]
  },
  {
   "cell_type": "code",
   "execution_count": 12,
   "metadata": {},
   "outputs": [
    {
     "name": "stdout",
     "output_type": "stream",
     "text": [
      "(6,)\n",
      "(2, 6)\n"
     ]
    }
   ],
   "source": [
    "print(np.shape(my_array))\n",
    "print(np.shape(my_2darray))"
   ]
  },
  {
   "cell_type": "markdown",
   "metadata": {},
   "source": [
    "What if we want to add or remove dimensions of an array or change the number of elements in each dimension? NumPy allows us to change the shape of the array using the [reshape](https://numpy.org/doc/stable/reference/generated/numpy.reshape.html) function.\n",
    "\n",
    "It is important to note that we can reshape an array only as long as the elements required for reshaping are equal in both shapes."
   ]
  },
  {
   "cell_type": "code",
   "execution_count": 13,
   "metadata": {},
   "outputs": [
    {
     "name": "stdout",
     "output_type": "stream",
     "text": [
      "[[1]\n",
      " [2]\n",
      " [3]\n",
      " [4]\n",
      " [5]\n",
      " [6]]\n"
     ]
    }
   ],
   "source": [
    "print(my_array.reshape((6, 1)))  # Reshape 1D array to 6D array, each with 1 element"
   ]
  },
  {
   "cell_type": "code",
   "execution_count": 14,
   "metadata": {},
   "outputs": [
    {
     "name": "stdout",
     "output_type": "stream",
     "text": [
      "[[1 2]\n",
      " [3 4]\n",
      " [5 6]]\n"
     ]
    }
   ],
   "source": [
    "print(my_array.reshape((3, 2)))  # Reshape 1D array to 3D array, each with 2 elements"
   ]
  },
  {
   "cell_type": "code",
   "execution_count": 15,
   "metadata": {},
   "outputs": [
    {
     "name": "stdout",
     "output_type": "stream",
     "text": [
      "[[ 1  2]\n",
      " [ 3  4]\n",
      " [ 5  6]\n",
      " [ 7  8]\n",
      " [ 9 10]\n",
      " [11 12]]\n"
     ]
    }
   ],
   "source": [
    "print(my_2darray.reshape((6, 2)))  # Reshape 2D array to 6D array, each with 2 elements"
   ]
  },
  {
   "cell_type": "code",
   "execution_count": 16,
   "metadata": {},
   "outputs": [
    {
     "name": "stdout",
     "output_type": "stream",
     "text": [
      "[[ 1  2  3  4]\n",
      " [ 5  6  7  8]\n",
      " [ 9 10 11 12]]\n"
     ]
    }
   ],
   "source": [
    "print(my_2darray.reshape((3, 4))) # Reshape 2D array to 4D array, each with 4 elements"
   ]
  },
  {
   "cell_type": "markdown",
   "metadata": {},
   "source": [
    "## Assessment"
   ]
  },
  {
   "cell_type": "markdown",
   "metadata": {},
   "source": [
    "Now that you've learned about NumPy arrays, lets test your knowledge."
   ]
  },
  {
   "attachments": {},
   "cell_type": "markdown",
   "metadata": {},
   "source": [
    "<b>Q1:</b> Create the following 3D array.\n",
    "\n",
    "<img src=\"q1_assessment.png\" width=\"100\">"
   ]
  },
  {
   "cell_type": "markdown",
   "metadata": {},
   "source": [
    "<b>Q2:</b> Slice the array to obtain a 1D array consisting of [9, 10, 11]."
   ]
  },
  {
   "cell_type": "markdown",
   "metadata": {},
   "source": [
    "<b>Q3:</b> Reshape the array into the following array.\n",
    "\n",
    "<img src=\"q3_assessment.png\" width=\"150\">"
   ]
  },
  {
   "cell_type": "markdown",
   "metadata": {},
   "source": [
    "### Solutions"
   ]
  },
  {
   "cell_type": "code",
   "execution_count": 17,
   "metadata": {},
   "outputs": [
    {
     "name": "stdout",
     "output_type": "stream",
     "text": [
      "[[ 0  1  2  3]\n",
      " [ 4  5  6  7]\n",
      " [ 8  9 10 11]]\n",
      "[ 9 10 11]\n",
      "[[ 0  1  2  3  4  5]\n",
      " [ 6  7  8  9 10 11]]\n"
     ]
    }
   ],
   "source": [
    "arr = np.array([[0, 1, 2, 3], [4, 5, 6, 7], [8, 9, 10, 11]])\n",
    "print(arr)\n",
    "print(arr[2, 1:])\n",
    "print(arr.reshape(2,6))"
   ]
  }
 ],
 "metadata": {
  "kernelspec": {
   "display_name": "Python 3",
   "language": "python",
   "name": "python3"
  },
  "language_info": {
   "codemirror_mode": {
    "name": "ipython",
    "version": 3
   },
   "file_extension": ".py",
   "mimetype": "text/x-python",
   "name": "python",
   "nbconvert_exporter": "python",
   "pygments_lexer": "ipython3",
   "version": "3.7.6"
  }
 },
 "nbformat": 4,
 "nbformat_minor": 4
}
